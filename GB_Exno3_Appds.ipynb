{
  "nbformat": 4,
  "nbformat_minor": 0,
  "metadata": {
    "colab": {
      "provenance": []
    },
    "kernelspec": {
      "name": "python3",
      "display_name": "Python 3"
    },
    "language_info": {
      "name": "python"
    }
  },
  "cells": [
    {
      "cell_type": "code",
      "execution_count": null,
      "metadata": {
        "id": "_Kmy6n-gv94a"
      },
      "outputs": [],
      "source": [
        "import pandas as pd\n",
        "import numpy as np"
      ]
    },
    {
      "cell_type": "code",
      "source": [
        "pip install pandas numpy scikit-learn fuzzywuzzy python-Levenshtein"
      ],
      "metadata": {
        "id": "M3KZ_n0PwSS_"
      },
      "execution_count": null,
      "outputs": []
    },
    {
      "cell_type": "code",
      "source": [
        "from fuzzywuzzy import process\n",
        "from sklearn.preprocessing import MinMaxScaler"
      ],
      "metadata": {
        "id": "N39c_rybwOfh"
      },
      "execution_count": null,
      "outputs": []
    },
    {
      "cell_type": "code",
      "source": [
        "df = pd.read_csv('')"
      ],
      "metadata": {
        "id": "4bimnd_vwkTL"
      },
      "execution_count": null,
      "outputs": []
    },
    {
      "cell_type": "code",
      "source": [
        "df.head()"
      ],
      "metadata": {
        "id": "y3ZN9_xXxCia"
      },
      "execution_count": null,
      "outputs": []
    },
    {
      "cell_type": "code",
      "source": [
        "dx = pd.read_csv('')"
      ],
      "metadata": {
        "id": "kjaqf1oSxG-q"
      },
      "execution_count": null,
      "outputs": []
    },
    {
      "cell_type": "code",
      "source": [],
      "metadata": {
        "id": "eaqgASZnxPVw"
      },
      "execution_count": null,
      "outputs": []
    },
    {
      "cell_type": "code",
      "source": [
        "# CHECK THE DIMENSIONALITY OF THE DATA OF df & dx"
      ],
      "metadata": {
        "id": "dUyuFJ8nxTuW"
      },
      "execution_count": null,
      "outputs": []
    },
    {
      "cell_type": "code",
      "source": [
        "# REMOVE THE DUPLICATES DATA OF df & dx"
      ],
      "metadata": {
        "id": "LdAUN0X5yIs_"
      },
      "execution_count": null,
      "outputs": []
    },
    {
      "cell_type": "code",
      "source": [
        "# Standardize column names for merging\n",
        " ['Product_id','Product_Name','Rating', 'Review_Count']"
      ],
      "metadata": {
        "id": "nGVqMtuEySsB"
      },
      "execution_count": null,
      "outputs": []
    },
    {
      "cell_type": "code",
      "source": [
        "['Product_id','Product_Name','Rating', 'Review_Count']"
      ],
      "metadata": {
        "id": "OgMIzdeRzBFm"
      },
      "execution_count": null,
      "outputs": []
    },
    {
      "cell_type": "code",
      "source": [],
      "metadata": {
        "id": "tnnIgaWVzDQZ"
      },
      "execution_count": null,
      "outputs": []
    },
    {
      "cell_type": "code",
      "source": [
        "dx['Matched_Product'] ="
      ],
      "metadata": {
        "id": "UicqXgiZzN59"
      },
      "execution_count": null,
      "outputs": []
    },
    {
      "cell_type": "code",
      "source": [
        "merged_df ="
      ],
      "metadata": {
        "id": "HHl0xUfTzdm1"
      },
      "execution_count": null,
      "outputs": []
    },
    {
      "cell_type": "code",
      "source": [
        "merged_df"
      ],
      "metadata": {
        "id": "ynfA0FKgAftg"
      },
      "execution_count": null,
      "outputs": []
    },
    {
      "cell_type": "code",
      "source": [
        "merged_df.columns"
      ],
      "metadata": {
        "id": "_RwkfUnADsQF"
      },
      "execution_count": null,
      "outputs": []
    },
    {
      "cell_type": "code",
      "source": [
        "merged_df['Combined_Rating'] =\n"
      ],
      "metadata": {
        "id": "ficgFsO3DzSf"
      },
      "execution_count": null,
      "outputs": []
    },
    {
      "cell_type": "code",
      "source": [
        "#CALCULATE merged_df['Recommendation_Score'] 0.7 -> merged_df['Combined_Rating']  0.3-> merged_df['Rating_ds1']"
      ],
      "metadata": {
        "id": "AjVZMg37EgAG"
      },
      "execution_count": null,
      "outputs": []
    },
    {
      "cell_type": "code",
      "source": [
        "merged_df.head()"
      ],
      "metadata": {
        "id": "8hiQgaLtF3Rd"
      },
      "execution_count": null,
      "outputs": []
    },
    {
      "cell_type": "code",
      "source": [
        "# sort the values by Recommendation_Score"
      ],
      "metadata": {
        "id": "3XrKsS1zFeTJ"
      },
      "execution_count": null,
      "outputs": []
    },
    {
      "cell_type": "code",
      "source": [
        "# print the best_products and store it as a CSV file"
      ],
      "metadata": {
        "id": "MmEKitpTFmfW"
      },
      "execution_count": null,
      "outputs": []
    },
    {
      "cell_type": "code",
      "source": [
        "rp=pd.read_csv('')"
      ],
      "metadata": {
        "id": "Fm4WLrx4GoeX"
      },
      "execution_count": null,
      "outputs": []
    },
    {
      "cell_type": "code",
      "source": [
        "rp.head()"
      ],
      "metadata": {
        "id": "3pTuhdYhG0uN"
      },
      "execution_count": null,
      "outputs": []
    }
  ]
}